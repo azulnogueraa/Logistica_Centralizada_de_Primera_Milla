{
 "cells": [
  {
   "cell_type": "markdown",
   "metadata": {},
   "source": [
    "#### **Ejercicio 5**\n",
    "**Discusión y análisis de resultados.** Analizar los resultados obtenidos en función de la comparación entre ambos métodos. Incluir como parte de la discusión aquello que considere relevante en relación a las características del modelo propuesto para resolver el problema (por ejemplo, tiempo de ejecución vs. contexto de aplicación, posibles adaptaciones ante limitantes, etc.).\n",
    "\n",
    "(INSERTAR TABLA)\n",
    "\n",
    "Los datos dispuestos en el archivo *resultados.csv* se obtuvieron a partir de la experimentación sobre todas las instancias comparando el modelo Greedy Solver con el modelo Taxi Batching. Las métricas que consideramos relevantes para el análisis de estos modelos fueron las siguientes:\n",
    "\n",
    "- Valor de la función objetivo: corresponde a la suma de lo costos de las aristas de los taxis a los pasajeros asignados.\n",
    "- Tiempo de resolución: corresponde al tiempo que tarda el modelo en obtener una solución. \n",
    "- Mejora porcentual: $\\footnotesize\\%\\text{gap}= \\frac{z_g - z_b}{z_b}$\n",
    "\n",
    "A partir de la tabla, podemos notar que los valores de la función objetivo del modelo Greedy Solver son mayores que los de Taxi Batching. Esto es razonable ya que en el algoritmo Greedy no se tiene en cuenta el costo asociado con cada asignación y simplemente se elige la opción mas conveniente en ese momento, lo cual puede resultar en una mayor distancia total recorrida. En cambio, el algoritmo Taxi Batching busca minimizar el costo total asociado con el transporte de los pasajeros.\n",
    "\n",
    "Por el contrario, el tiempo de resolución del algoritmo Taxi Batching es mayor que el algoritmo Greedy. Esto es coherente ya que este suele tener una complejidad computacional más baja en comparación con los algoritmos de optimización más avanzados, como el Taxi Batching. El algoritmo Greedy suele tomar decisiones locales basadas en información limitada en cada paso, lo que reduce la cantidad de cálculos necesarios. Por otro lado, el algoritmo de Taxi Batching implica la resolución de un problema de flujo máximo con restricciones y costos asociados, lo que puede requerir más operaciones y cálculos complejos.\n",
    "\n",
    "En otras palabras, Greedy es relativamente fácil de implementar y entender. No requiere una estructura de datos o algoritmos complicados para su ejecución. Pero Taxi Batching puede requerir una implementación más compleja y detallada, lo que puede llevar más tiempo de desarrollo y resolución.\n",
    "\n",
    "\n",
    "\n",
    "\n"
   ]
  }
 ],
 "metadata": {
  "kernelspec": {
   "display_name": "Python 3.10.5 64-bit",
   "language": "python",
   "name": "python3"
  },
  "language_info": {
   "name": "python",
   "version": "3.10.5"
  },
  "orig_nbformat": 4,
  "vscode": {
   "interpreter": {
    "hash": "aee8b7b246df8f9039afb4144a1f6fd8d2ca17a180786b69acc140d282b71a49"
   }
  }
 },
 "nbformat": 4,
 "nbformat_minor": 2
}
