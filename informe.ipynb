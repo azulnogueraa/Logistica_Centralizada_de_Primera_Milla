{
 "cells": [
  {
   "cell_type": "markdown",
   "metadata": {},
   "source": [
    "#### **1.** \n",
    "##### **Estrategia FCFS.** Implementar la solución que se corresponde con la estrategia FCFS. Para ello, completar la clase GreedySolver, que toma una instancia y resuelve el problema con la estrategia FCFS. Esta clase debe guardar la información respecto al valor de la función objetivo, tiempo de resolución, y la solución a implementar usando la clase TaxiAssignmentSolution, ya implementada.\n",
    "\n",
    "El algoritmo Greedy resuelve el problema de asignación siguiendo el criterio FCFS, tomando para cada pasajero el conductor más cercano. \n",
    "La clase GreedySolver implementa un algoritmo para obtener una solución al problema de asignación de taxis a pasajeros.\n",
    "La clase contiene:\n",
    "- Constructor predeterminado GreedySolver::GreedySolver(): Es el constructor por defecto de la clase. \n",
    "\n",
    "- Constructor GreedySolver::GreedySolver(TaxiAssignmentInstance &instance): Este constructor toma una instancia de asignación de taxis (TaxiAssignmentInstance) como parámetro y la utiliza para inicializar el objeto GreedySolver. Establece los valores iniciales para las variables de la instancia y la solución.\n",
    "\n",
    "- GreedySolver::setInstance(TaxiAssignmentInstance &instance): Este método permite establecer una instancia de asignación de taxis después de la creación del objeto GreedySolver.\n",
    "\n",
    "- GreedySolver::solve(): Este método implementa el algoritmo para resolver el problema de asignación de taxis a pasajeros. A continuación, se describen los pasos principales dentro de este método:\n",
    "a. Se inicializa un cronómetro para medir el tiempo de resolución del algoritmo.\n",
    "b. Se crea una solución inicial vacía (TaxiAssignmentSolution) basada en el número de pasajeros de la instancia.\n",
    "c. Se itera sobre cada pasajero y se asigna el taxi más cercano disponible (no asignado previamente) a ese pasajero.\n",
    "d. Se calcula el valor objetivo de la solución sumando las distancias recorridas por cada taxi hasta su pasajero asignado.\n",
    "e. Se detiene el cronómetro y se calcula el tiempo de resolución.\n",
    "\n",
    "- GreedySolver::getObjectiveValue() const: Este método devuelve el valor objetivo de la solución calculado durante la resolución del problema.\n",
    "\n",
    "- GreedySolver::getSolution() const: Este método devuelve la solución de asignación de taxis resultante.\n",
    "\n",
    "- GreedySolver::getSolutionStatus() const: Este método devuelve el estado de la solución (puede ser utilizado para indicar si la solución es factible, óptima, etc.). En esta implementación, siempre devuelve 0, lo cual no proporciona información específica sobre el estado.\n",
    "\n",
    "- GreedySolver::getSolutionTime() const: Este método devuelve el tiempo de resolución de la solución en milisegundos.\n"
   ]
  },
  {
   "cell_type": "markdown",
   "metadata": {},
   "source": [
    "#### **2.**\n",
    "##### **Modelo para estrategia de batching.** Modelar el problema usando grafos, incluyendo todos los parámetros y definiciones necesarias. Justificar la elección del mismo y por qué lo consideran apropiado para el problema.\n",
    "\n",
    "(METER GRAFO MODELADO)\n",
    "\n",
    "Tenemos n taxis y n pasajeros y queremos asignarle a cada taxi un único pasajero de modo de encontrar para cada pasajero el taxi más cercano con la estrategia de Batching, la cual minimiza la distancia recorrida por los vehículos hasta la ubicación de su pasajero asignado.\n",
    "\n",
    "Para modelar el problema de asignación pasajero-taxi con la estrategia de Batching, vamos a utilizar  un digrafo D = (N,A) con nodos s, t incluidos en N de origen y destino. Una función de capacidad u: A->Z+ asociada con los arcos y una función de costo c: A->Z para cada arco.\n",
    "\n",
    "Ahora, conectamos con una arista dirigida cada nodo t_i (de los n taxis) a todos los nodos p_j (de los n pasajeros) porque cualquier taxi puede llevar a cualquier pasajero. Cada arista con capacidad 1 y costo d_ij (distancia entre taxi i y pasajero j).\n",
    "\n",
    "Luego, agregamos un nodo s y un nodo t y conectamos a s con todos los nodos t_i mediante aristas dirigidas s->t_i. Recordemos que cada taxi puede llevar a un único pasajero, por lo que debemos limitar la cantidad de flujo que llega a cada uno de los taxis t_i. Para ello, podemos asignarle a cada arista s->t_i una capacidad de 1. \n",
    "A su vez, conectamos a todos los nodos p_j a t mediante aristas dirigidas p_j->t, con  capacidad 1 por la ley de conservación de flujo. \n",
    "Todas las aristas de que salen de s y que entran a t, tendran costo 0.\n",
    "\n",
    "Para encontrar la solución al problema, debemos seguir los siguientes pasos:\n",
    "1. Aplicamos Edmonds y Karp para obtener el flujo máximo. \n",
    "2. Como queremos minimizar la distancia total de cada taxi a cada pasajero asignado, para encontrar la mejor solución al problema, aplicaremos al flujo factible el algoritmo de Klein (cancelación de ciclos)."
   ]
  },
  {
   "cell_type": "markdown",
   "metadata": {},
   "source": [
    "#### **Ejercicio 5**\n",
    "**Discusión y análisis de resultados.** Analizar los resultados obtenidos en función de la comparación entre ambos métodos. Incluir como parte de la discusión aquello que considere relevante en relación a las características del modelo propuesto para resolver el problema (por ejemplo, tiempo de ejecución vs. contexto de aplicación, posibles adaptaciones ante limitantes, etc.).\n",
    "\n",
    "(INSERTAR TABLA)\n",
    "\n",
    "Los datos dispuestos en el archivo *resultados.csv* se obtuvieron a partir de la experimentación sobre todas las instancias comparando el modelo Greedy Solver con el modelo Taxi Batching. Las métricas que consideramos relevantes para el análisis de estos modelos fueron las siguientes:\n",
    "\n",
    "- Valor de la función objetivo: corresponde a la suma de lo costos de las aristas de los taxis a los pasajeros asignados.\n",
    "- Tiempo de resolución: corresponde al tiempo que tarda el modelo en obtener una solución. \n",
    "- Mejora porcentual: $\\footnotesize\\%\\text{gap}= \\frac{z_g - z_b}{z_b}$\n",
    "\n",
    "A partir de la tabla, podemos notar que los valores de la función objetivo del modelo Greedy Solver son mayores que los de Taxi Batching. Esto es razonable ya que en el algoritmo Greedy no se tiene en cuenta el costo asociado con cada asignación y simplemente se elige la opción mas conveniente en ese momento, lo cual puede resultar en una mayor distancia total recorrida. En cambio, el algoritmo Taxi Batching busca minimizar el costo total asociado con el transporte de los pasajeros.\n",
    "\n",
    "Por el contrario, el tiempo de resolución del algoritmo Taxi Batching es mayor que el algoritmo Greedy. Esto es coherente ya que este suele tener una complejidad computacional más baja en comparación con los algoritmos de optimización más avanzados, como el Taxi Batching. El algoritmo Greedy suele tomar decisiones locales basadas en información limitada en cada paso, lo que reduce la cantidad de cálculos necesarios. Por otro lado, el algoritmo de Taxi Batching implica la resolución de un problema de flujo máximo con restricciones y costos asociados, lo que puede requerir más operaciones y cálculos complejos.\n",
    "\n",
    "En otras palabras, Greedy es relativamente fácil de implementar y entender. No requiere una estructura de datos o algoritmos complicados para su ejecución. Pero Taxi Batching puede requerir una implementación más compleja y detallada, lo que puede llevar más tiempo de desarrollo y resolución.\n",
    "\n",
    "\n",
    "\n",
    "\n"
   ]
  }
 ],
 "metadata": {
  "kernelspec": {
   "display_name": "Python 3.10.5 64-bit",
   "language": "python",
   "name": "python3"
  },
  "language_info": {
   "name": "python",
   "version": "3.10.5"
  },
  "orig_nbformat": 4,
  "vscode": {
   "interpreter": {
    "hash": "aee8b7b246df8f9039afb4144a1f6fd8d2ca17a180786b69acc140d282b71a49"
   }
  }
 },
 "nbformat": 4,
 "nbformat_minor": 2
}
