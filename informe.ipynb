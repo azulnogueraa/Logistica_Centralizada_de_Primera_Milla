{
 "cells": [
  {
   "cell_type": "markdown",
   "metadata": {},
   "source": [
    "#### **1.** \n",
    "##### **Estrategia FCFS.** Implementar la solución que se corresponde con la estrategia FCFS. Para ello, completar la clase GreedySolver, que toma una instancia y resuelve el problema con la estrategia FCFS. Esta clase debe guardar la información respecto al valor de la función objetivo, tiempo de resolución, y la solución a implementar usando la clase TaxiAssignmentSolution, ya implementada.\n",
    "\n",
    "El algoritmo Greedy resuelve el problema de asignación siguiendo el criterio FCFS, tomando para cada pasajero el conductor más cercano. \n",
    "La clase GreedySolver implementa un algoritmo para obtener una solución al problema de asignación de taxis a pasajeros.\n",
    "La clase contiene:\n",
    "- Constructor predeterminado GreedySolver::GreedySolver(): Es el constructor por defecto de la clase. \n",
    "\n",
    "- Constructor GreedySolver::GreedySolver(TaxiAssignmentInstance &instance): Este constructor toma una instancia de asignación de taxis (TaxiAssignmentInstance) como parámetro y la utiliza para inicializar el objeto GreedySolver. Establece los valores iniciales para las variables de la instancia y la solución.\n",
    "\n",
    "- GreedySolver::setInstance(TaxiAssignmentInstance &instance): Este método permite establecer una instancia de asignación de taxis después de la creación del objeto GreedySolver.\n",
    "\n",
    "- GreedySolver::solve(): Este método implementa el algoritmo para resolver el problema de asignación de taxis a pasajeros. A continuación, se describen los pasos principales dentro de este método:\n",
    "a. Se inicializa un cronómetro para medir el tiempo de resolución del algoritmo.\n",
    "b. Se crea una solución inicial vacía (TaxiAssignmentSolution) basada en el número de pasajeros de la instancia.\n",
    "c. Se itera sobre cada pasajero y se asigna el taxi más cercano disponible (no asignado previamente) a ese pasajero.\n",
    "d. Se calcula el valor objetivo de la solución sumando las distancias recorridas por cada taxi hasta su pasajero asignado.\n",
    "e. Se detiene el cronómetro y se calcula el tiempo de resolución.\n",
    "\n",
    "- GreedySolver::getObjectiveValue() const: Este método devuelve el valor objetivo de la solución calculado durante la resolución del problema.\n",
    "\n",
    "- GreedySolver::getSolution() const: Este método devuelve la solución de asignación de taxis resultante.\n",
    "\n",
    "- GreedySolver::getSolutionStatus() const: Este método devuelve el estado de la solución (puede ser utilizado para indicar si la solución es factible, óptima, etc.). En esta implementación, siempre devuelve 0, lo cual no proporciona información específica sobre el estado.\n",
    "\n",
    "- GreedySolver::getSolutionTime() const: Este método devuelve el tiempo de resolución de la solución en milisegundos.\n"
   ]
  },
  {
   "cell_type": "markdown",
   "metadata": {},
   "source": [
    "#### **2.**\n",
    "##### **Modelo para estrategia de batching.** Modelar el problema usando grafos, incluyendo todos los parámetros y definiciones necesarias. Justificar la elección del mismo y por qué lo consideran apropiado para el problema.\n",
    "\n",
    "(METER GRAFO MODELADO)\n",
    "\n",
    "Tenemos n taxis y n pasajeros y queremos asignarle a cada taxi un único pasajero de modo de encontrar para cada pasajero el taxi más cercano con la estrategia de Batching, la cual minimiza la distancia recorrida por los vehículos hasta la ubicación de su pasajero asignado.\n",
    "\n",
    "Para modelar el problema de asignación pasajero-taxi con la estrategia de Batching, vamos a utilizar  un digrafo D = (N,A) con nodos s, t incluidos en N de origen y destino. Una función de capacidad u: A->Z+ asociada con los arcos y una función de costo c: A->Z para cada arco.\n",
    "\n",
    "Ahora, conectamos con una arista dirigida cada nodo t_i (de los n taxis) a todos los nodos p_j (de los n pasajeros) porque cualquier taxi puede llevar a cualquier pasajero. Cada arista con capacidad 1 y costo d_ij (distancia entre taxi i y pasajero j).\n",
    "\n",
    "Luego, agregamos un nodo s y un nodo t y conectamos a s con todos los nodos t_i mediante aristas dirigidas s->t_i. Recordemos que cada taxi puede llevar a un único pasajero, por lo que debemos limitar la cantidad de flujo que llega a cada uno de los taxis t_i. Para ello, podemos asignarle a cada arista s->t_i una capacidad de 1. \n",
    "A su vez, conectamos a todos los nodos p_j a t mediante aristas dirigidas p_j->t, con  capacidad 1 por la ley de conservación de flujo. \n",
    "Todas las aristas de que salen de s y que entran a t, tendran costo 0.\n",
    "\n",
    "Para encontrar la solución al problema, debemos seguir los siguientes pasos:\n",
    "1. Aplicamos Edmonds y Karp para obtener el flujo máximo. \n",
    "2. Como queremos minimizar la distancia total de cada taxi a cada pasajero asignado, para encontrar la mejor solución al problema, aplicaremos al flujo factible el algoritmo de Klein (cancelación de ciclos)."
   ]
  },
  {
   "cell_type": "markdown",
   "metadata": {},
   "source": [
    "#### **3.**\n",
    "##### **Implementación estrategia de batching.** Realizar una implementación del modelo propuesto en el ítem anterior. Para ello, completar la clase MinCostFlowSolver, con un comportamiento análogo a GreedySolver.\n",
    "\n",
    "Como explicamos en el ejercicio anterior, la estrategia de batching busca resolver el problema de asignación pasajero-taxi minimizando la distancia recorrida por los pasajeros hasta la ubicación de su pasajero asignado.\n",
    "Para ello, definimos la clase BatchingSolver que implementa un algoritmo que resuelve dicho problema. La clase contiene:\n",
    "- Constructor predeterminado BatchingSolver::BatchingSolver(): Es el constructor por defecto de la clase. No realiza ninguna operación específica.\n",
    "\n",
    "- Constructor BatchingSolver::BatchingSolver(TaxiAssignmentInstance &instance): Este constructor toma una instancia de asignación de taxis (TaxiAssignmentInstance) como parámetro y la utiliza para inicializar el objeto BatchingSolver. Establece los valores iniciales para las variables de la instancia y la solución.\n",
    "\n",
    "- BatchingSolver::setInstance(TaxiAssignmentInstance &instance): Este método permite establecer una instancia de asignación de taxis después de la creación del objeto BatchingSolver.\n",
    "\n",
    "- BatchingSolver::solve(): Este método es el núcleo del solucionador de batching. Implementa el algoritmo para resolver el problema de asignación de taxis a pasajeros utilizando el algoritmo de flujo de costo mínimo. A continuación, se describen los pasos principales dentro de este método:\n",
    "a. Se inicializa un cronómetro para medir el tiempo de resolución utilizando batching.\n",
    "b. Se crea una solución inicial vacía (TaxiAssignmentSolution) basada en el número de pasajeros de la instancia.\n",
    "c. Se crea una red de flujo mínimo (_min_cost_flow) utilizando la información de la instancia de asignación de taxis.\n",
    "d. Se resuelve el problema de flujo de costo mínimo (_min_cost_flow.Solve()) y se guarda el estado de la solución en _solution_status.\n",
    "e. Si el estado de la solución es óptimo (operations_research::MinCostFlow::OPTIMAL), se procesan las aristas de la solución para construir la solución asignando taxis a pasajeros.\n",
    "f. Se calcula el valor objetivo de la solución sumando los costos de las aristas en la solución.\n",
    "g. Si el estado de la solución no es óptimo, se imprime un mensaje indicando que la resolución del problema de flujo de costo mínimo falló.\n",
    "h. Se detiene el cronómetro y se calcula el tiempo de resolución.\n",
    "\n",
    "- BatchingSolver::_createMinCostFlowNetwork(): Este método privado se utiliza dentro del método solve() para crear la red de flujo de costo mínimo. Se inicializan las estructuras necesarias para representar el grafo del problema. Se agregan las aristas correspondientes a las conexiones entre los taxis y los pasajeros, estableciendo las capacidades y los costos unitarios en base a la distancia entre ellos. También se establecen las \"supplies\" de los nodos, que indican cuánto flujo entra o sale de cada nodo (1 para los taxis y -1 para los pasajeros). Finalmente, se agregan las aristas y las supplies a la instancia del flujo de costo mínimo _min_cost_flow.\n",
    "\n",
    "- BatchingSolver::getObjectiveValue() const: Este método devuelve el valor objetivo de la solución calculado durante la resolución del problema.\n",
    "\n",
    "- BatchingSolver::getSolution() const: Este método devuelve la solución de asignación de taxis resultante.\n",
    "\n",
    "- BatchingSolver::getSolutionStatus() const: Este método devuelve el estado."
   ]
  },
  {
   "cell_type": "markdown",
   "metadata": {},
   "source": [
    "#### **5.**\n",
    "##### **Discusión y análisis de resultados.** Analizar los resultados obtenidos en función de la comparación entre ambos métodos. Incluir como parte de la discusión aquello que considere relevante en relación a las características del modelo propuesto para resolver el problema (por ejemplo, tiempo de ejecución vs. contexto de aplicación, posibles adaptaciones ante limitantes, etc.).\n",
    "\n",
    "(INSERTAR TABLA)\n",
    "\n",
    "Los datos dispuestos en el archivo *resultados.csv* se obtuvieron a partir de la experimentación sobre todas las instancias comparando el modelo Greedy Solver con el modelo Taxi Batching. Las métricas que consideramos relevantes para el análisis de estos modelos fueron las siguientes:\n",
    "\n",
    "- Valor de la función objetivo: corresponde a la suma de lo costos de las aristas de los taxis a los pasajeros asignados.\n",
    "- Tiempo de resolución: corresponde al tiempo que tarda el modelo en obtener una solución. \n",
    "- Mejora porcentual: $\\footnotesize\\%\\text{gap}= \\frac{z_g - z_b}{z_b}$\n",
    "\n",
    "A partir de la tabla, podemos notar que los valores de la función objetivo del modelo Greedy Solver son mayores que los de Taxi Batching. Esto es razonable ya que en el algoritmo Greedy no se tiene en cuenta el costo asociado con cada asignación y simplemente se elige la opción mas conveniente en ese momento, lo cual puede resultar en una mayor distancia total recorrida. En cambio, el algoritmo Taxi Batching busca minimizar el costo total asociado con el transporte de los pasajeros.\n",
    "\n",
    "Por el contrario, el tiempo de resolución del algoritmo Taxi Batching es mayor que el algoritmo Greedy. Esto es coherente ya que este suele tener una complejidad computacional más baja en comparación con los algoritmos de optimización más avanzados, como el Taxi Batching. El algoritmo Greedy suele tomar decisiones locales basadas en información limitada en cada paso, lo que reduce la cantidad de cálculos necesarios. Por otro lado, el algoritmo de Taxi Batching implica la resolución de un problema de flujo máximo con restricciones y costos asociados, lo que puede requerir más operaciones y cálculos complejos.\n",
    "\n",
    "En otras palabras, Greedy es relativamente fácil de implementar y entender. No requiere una estructura de datos o algoritmos complicados para su ejecución. Pero Taxi Batching puede requerir una implementación más compleja y detallada, lo que puede llevar más tiempo de desarrollo y resolución."
   ]
  },
  {
   "cell_type": "markdown",
   "metadata": {},
   "source": [
    "#### **6.**\n",
    "##### **Limitaciones y posibles extensiones.** El nuevo modelo propuesto puede no considerar algunos aspectos importantes a la hora de implementarlo. En base a encuestas realizadas a los conductores en general, las aplicaciones sugieren muchas veces viajes que demandan una distancia considerable para llegar a la ubicación del pasajero, para luego realizar un muy viaje corto en comparación. En este sentido, la sensación de los conductores es que es mucho el costo de buscar el pasajero, ya sea en costo específico o en el tiempo utilizado y que podrían destinar a un viaje más rentable, en relación al beneficio obtenido por el viaje en sí mismo. Se pide analizar las soluciones de los métodos propuestos utilizando las distancias paticulares codificadas en la solución con la información adicional disponible de cada pasajero. Proponer alguna modificación a los modelos para abordar la problemática identificada.\n",
    "\n",
    "La problemática planteda no es considerada por la clase TaxiBatching ya que esta última se centra únicamente en minimizar la distancia recorrida por los conductores hasta los pasajeros, sin tener en cuenta que la distancia que recorren luego para llevar al pasajero puede ser muy corta. Sin embargo, en la realidad esto es un problema ya que la sensación de los conductores es que es mucho el costo de buscar a un pasajero, ya sea en costo específico o en el tiempo utilizado y que podrían destinar a un viaje mas rentable, en relación al beneficio obtenido por el viaje en sí mismo. \n",
    "\n",
    "Por esta razón, propusimos una modificación al modelo de Taxi Bathing y la implementamos en la nueva clase TaxiBatchingModificada. La clase TaxiBatchingModificada va a resolver el problema de flujo de costo minimo enfocándose en mejorar la eficiencia y la satisfacción tanto para los conductores como para los pasajeros. Para ello, el nuevo modelo tiene como funcion de costo el ratio de distancia, que se calcula al dividir la distancia del taxi al pasajero por la distancia del pasajero al destino. \n",
    "\n",
    "Esta es una métrica que proporciona una medida relativa de la eficiencia en la asignación de viajes. Este ratio puede interpretarse de la siguiente manera:\n",
    "\n",
    "Un ratio mayor a 1 indica que la distancia que el taxi debe recorrer para llegar al pasajero es mayor que la distancia que el pasajero necesita para llegar a su destino. Esto significa que el costo de buscar al pasajero es relativamente alto en comparación con el beneficio económico del viaje. En otras palabras, el tiempo y el esfuerzo requeridos para recoger al pasajero pueden considerarse desproporcionadamente altos en relación con la distancia y el tiempo del viaje en sí mismo.\n",
    "\n",
    "Un ratio menor a 1 indica que la distancia de taxi a pasajero es menor que la distancia de pasajero a destino. En este caso, el costo de buscar al pasajero es relativamente bajo en relación con el beneficio económico del viaje. Esto implica que el tiempo y el esfuerzo invertidos en la recogida del pasajero son proporcionalmente menores en comparación con la distancia y el tiempo del viaje en sí mismo.\n",
    "\n",
    "Al utilizar el ratio de distancia como costo en las aristas, el algoritmo de min cost flow buscará encontrar una asignación eficiente de viajes que minimice la distancia total recorrida por los taxis. Al considerar este ratio, se asignarán preferentemente los viajes en los que la distancia de recogida sea relativamente más corta en comparación con la distancia de destino. Esto ayuda a reducir la distancia total que los taxis deben recorrer para completar los viajes, lo que a su vez puede disminuir el consumo de combustible y el desgaste de los vehículos.\n",
    "\n",
    "A su vez, se busca proporcionar un equilibrio entre la eficiencia del recorrido del taxi y la sensación de los conductores de que el tiempo utilizado en la recogida no es desperdiciado. Al asignar preferentemente los viajes que implican distancias de recogida más cortas en comparación con las distancias de destino, se intenta evitar que los conductores sientan que están invirtiendo un tiempo excesivo en la búsqueda de los pasajeros. Esto puede aumentar la satisfacción de los conductores y, a su vez, mejorar la eficiencia general del sistema de taxis.\n",
    "\n"
   ]
  }
 ],
 "metadata": {
  "kernelspec": {
   "display_name": "Python 3.10.5 64-bit",
   "language": "python",
   "name": "python3"
  },
  "language_info": {
   "name": "python",
   "version": "3.10.5"
  },
  "orig_nbformat": 4,
  "vscode": {
   "interpreter": {
    "hash": "aee8b7b246df8f9039afb4144a1f6fd8d2ca17a180786b69acc140d282b71a49"
   }
  }
 },
 "nbformat": 4,
 "nbformat_minor": 2
}
